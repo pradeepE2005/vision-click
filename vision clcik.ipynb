{
 "cells": [
  {
   "metadata": {},
   "cell_type": "markdown",
   "source": "",
   "id": "8a77807f92f26ee"
  },
  {
   "metadata": {
    "ExecuteTime": {
     "end_time": "2025-03-01T05:55:02.465838Z",
     "start_time": "2025-03-01T05:52:15.047619Z"
    }
   },
   "cell_type": "code",
   "source": [
    "import cv2\n",
    "import mediapipe as mp\n",
    "import pyautogui\n",
    "import numpy as np\n",
    "\n",
    "# Initialize the camera and MediaPipe Face Mesh\n",
    "cam = cv2.VideoCapture(0)\n",
    "face_mesh = mp.solutions.face_mesh.FaceMesh(refine_landmarks=True)\n",
    "screen_w, screen_h = pyautogui.size()\n",
    "\n",
    "while True:\n",
    "    # Capture frame from webcam\n",
    "    ret, frame = cam.read()\n",
    "    if not ret:\n",
    "        print(\"Failed to grab frame\")\n",
    "        break\n",
    "\n",
    "    # Flip the frame horizontally (mirror effect)\n",
    "    frame = cv2.flip(frame, 1)\n",
    "\n",
    "    # Convert the frame to RGB for MediaPipe (ensure it's numpy ndarray)\n",
    "    rgb_frame = cv2.cvtColor(frame, cv2.COLOR_BGR2RGB)\n",
    "\n",
    "    # Ensure the type is correct and is numpy array\n",
    "    rgb_frame = np.array(rgb_frame)\n",
    "\n",
    "    try:\n",
    "        # Process the frame to get the face landmarks\n",
    "        output = face_mesh.process(rgb_frame)\n",
    "\n",
    "        # Check if any landmarks were detected\n",
    "        if output.multi_face_landmarks:\n",
    "            landmark_points = output.multi_face_landmarks[0].landmark  # Get the first face's landmarks\n",
    "\n",
    "            frame_h, frame_w, _ = frame.shape\n",
    "\n",
    "            # Draw and track the eye region landmarks (landmarks 474-478)\n",
    "            for id, landmark in enumerate(landmark_points[474:478]):\n",
    "                x = int(landmark.x * frame_w)\n",
    "                y = int(landmark.y * frame_h)\n",
    "                cv2.circle(frame, (x, y), 3, (0, 255, 0))\n",
    "\n",
    "                if id == 1:\n",
    "                    # Move the cursor based on the eye position\n",
    "                    screen_x = screen_w * landmark.x\n",
    "                    screen_y = screen_h * landmark.y\n",
    "                    pyautogui.moveTo(screen_x, screen_y)\n",
    "\n",
    "            # Detect if the left eye is blinking (landmarks 145 and 159)\n",
    "            left = [landmark_points[145], landmark_points[159]]\n",
    "            for landmark in left:\n",
    "                x = int(landmark.x * frame_w)\n",
    "                y = int(landmark.y * frame_h)\n",
    "                cv2.circle(frame, (x, y), 3, (0, 255, 255))\n",
    "\n",
    "            # If the eye is closed (small vertical distance between eyelid points), click\n",
    "            if (left[0].y - left[1].y) < 0.004:\n",
    "                pyautogui.click()\n",
    "                pyautogui.sleep(1)\n",
    "\n",
    "    except Exception as e:\n",
    "        print(f\"Error during processing: {e}\")\n",
    "\n",
    "    # Display the frame with the drawn landmarks\n",
    "    cv2.imshow('Eye Controlled Mouse', frame)\n",
    "\n",
    "    # Break the loop if the user presses 'q'\n",
    "    if cv2.waitKey(1) & 0xFF == ord('q'):\n",
    "        break\n",
    "\n",
    "# Release resources\n",
    "cam.release()\n",
    "cv2.destroyAllWindows()\n"
   ],
   "id": "8c0fb114a5bfabad",
   "outputs": [
    {
     "ename": "KeyboardInterrupt",
     "evalue": "",
     "output_type": "error",
     "traceback": [
      "\u001B[1;31m---------------------------------------------------------------------------\u001B[0m",
      "\u001B[1;31mKeyboardInterrupt\u001B[0m                         Traceback (most recent call last)",
      "Cell \u001B[1;32mIn[1], line 13\u001B[0m\n\u001B[0;32m      9\u001B[0m screen_w, screen_h \u001B[38;5;241m=\u001B[39m pyautogui\u001B[38;5;241m.\u001B[39msize()\n\u001B[0;32m     11\u001B[0m \u001B[38;5;28;01mwhile\u001B[39;00m \u001B[38;5;28;01mTrue\u001B[39;00m:\n\u001B[0;32m     12\u001B[0m     \u001B[38;5;66;03m# Capture frame from webcam\u001B[39;00m\n\u001B[1;32m---> 13\u001B[0m     ret, frame \u001B[38;5;241m=\u001B[39m \u001B[43mcam\u001B[49m\u001B[38;5;241;43m.\u001B[39;49m\u001B[43mread\u001B[49m\u001B[43m(\u001B[49m\u001B[43m)\u001B[49m\n\u001B[0;32m     14\u001B[0m     \u001B[38;5;28;01mif\u001B[39;00m \u001B[38;5;129;01mnot\u001B[39;00m ret:\n\u001B[0;32m     15\u001B[0m         \u001B[38;5;28mprint\u001B[39m(\u001B[38;5;124m\"\u001B[39m\u001B[38;5;124mFailed to grab frame\u001B[39m\u001B[38;5;124m\"\u001B[39m)\n",
      "\u001B[1;31mKeyboardInterrupt\u001B[0m: "
     ]
    }
   ],
   "execution_count": 1
  },
  {
   "metadata": {},
   "cell_type": "code",
   "outputs": [],
   "execution_count": null,
   "source": "",
   "id": "2ca17853f2011a6c"
  }
 ],
 "metadata": {
  "kernelspec": {
   "display_name": "Python 3",
   "language": "python",
   "name": "python3"
  },
  "language_info": {
   "codemirror_mode": {
    "name": "ipython",
    "version": 2
   },
   "file_extension": ".py",
   "mimetype": "text/x-python",
   "name": "python",
   "nbconvert_exporter": "python",
   "pygments_lexer": "ipython2",
   "version": "2.7.6"
  }
 },
 "nbformat": 4,
 "nbformat_minor": 5
}
